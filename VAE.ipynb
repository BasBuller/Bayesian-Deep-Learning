{
 "cells": [
  {
   "cell_type": "code",
   "execution_count": 1,
   "metadata": {},
   "outputs": [],
   "source": [
    "import numpy as np\n",
    "import matplotlib.pyplot as plt\n",
    "from tqdm import tqdm\n",
    "\n",
    "import torch\n",
    "import torch.nn as nn\n",
    "import torch.optim as optim\n",
    "import torch.nn.functional as F\n",
    "import torch.distributions as distr\n",
    "\n",
    "from torch.utils.data import Dataset, DataLoader\n",
    "from torchvision import datasets, transforms\n",
    "from torchvision.utils import make_grid"
   ]
  },
  {
   "cell_type": "markdown",
   "metadata": {},
   "source": [
    "### Dataset definition"
   ]
  },
  {
   "cell_type": "code",
   "execution_count": 2,
   "metadata": {},
   "outputs": [],
   "source": [
    "batch_size = 100\n",
    "num_workers = 4\n",
    "\n",
    "# Transforms\n",
    "transform = transforms.ToTensor()\n",
    "\n",
    "# Train\n",
    "train_mnist = datasets.MNIST(\"./data\", train=True, transform=transform)\n",
    "train_loader = DataLoader(train_mnist, shuffle=True, batch_size=batch_size, num_workers=num_workers)\n",
    "\n",
    "# Test\n",
    "test_mnist = datasets.MNIST(\"./data\", train=False, transform=transform)\n",
    "test_loader = DataLoader(test_mnist, shuffle=True, batch_size=batch_size, num_workers=num_workers)"
   ]
  },
  {
   "cell_type": "markdown",
   "metadata": {},
   "source": [
    "### Network definition"
   ]
  },
  {
   "cell_type": "code",
   "execution_count": 3,
   "metadata": {},
   "outputs": [],
   "source": [
    "class Encoder(nn.Module):\n",
    "    def __init__(self, l0, l1):\n",
    "        super(Encoder, self).__init__()\n",
    "         \n",
    "        # Define layers\n",
    "        self.fc0 = nn.Linear(28*28, l0)\n",
    "        self.fc1_mu = nn.Linear(l0, l1)\n",
    "        self.fc1_sigma = nn.Linear(l0, l1)\n",
    "        \n",
    "    def forward(self, x):\n",
    "        x = x.view(x.shape[0], -1)\n",
    "        \n",
    "        # Hidden\n",
    "        x = self.fc0(x)\n",
    "        x = F.relu(x)\n",
    "        \n",
    "        # Latent\n",
    "        mu = self.fc1_mu(x)\n",
    "        logvar = self.fc1_sigma(x)\n",
    "        \n",
    "        return mu, logvar \n",
    "        \n",
    "class Decoder(nn.Module):\n",
    "    def __init__(self, l0, l1):\n",
    "        super(Decoder, self).__init__()\n",
    "        \n",
    "        # Define layers\n",
    "        self.fc0 = nn.Linear(l0, l1)\n",
    "        self.fc1 = nn.Linear(l1, 28*28)\n",
    "        \n",
    "    def forward(self, x):\n",
    "        \n",
    "        # Hidden\n",
    "        x = self.fc0(x)\n",
    "        x = F.relu(x)\n",
    "        \n",
    "        # Output\n",
    "        x = self.fc1(x)\n",
    "        x = torch.sigmoid(x)\n",
    "        x = x.view(x.shape[0], 1, 28, 28)\n",
    "        \n",
    "        return x\n",
    "        \n",
    "class VAE(nn.Module):\n",
    "    def __init__(self, l0, l1):\n",
    "        super(VAE, self).__init__()\n",
    "        self.encoder = Encoder(l0, l1)\n",
    "        self.decoder = Decoder(l1, l0)\n",
    "        \n",
    "    def forward(self, x):\n",
    "        # Generate deterministic mean and std\n",
    "        z_mu, z_logvar = self.encoder(x)\n",
    "        \n",
    "        # Sample epsilon and make z stochastic\n",
    "        eps = torch.randn_like(z_logvar)\n",
    "        z_sigma = torch.exp(0.5 * z_logvar)\n",
    "        z = z_mu + z_sigma * eps\n",
    "        \n",
    "        # Perform decoding, or sample from X\n",
    "        y = self.decoder(z)\n",
    "        \n",
    "        return y, z_mu, z_logvar"
   ]
  },
  {
   "cell_type": "markdown",
   "metadata": {},
   "source": [
    "### Loss definition"
   ]
  },
  {
   "cell_type": "code",
   "execution_count": 4,
   "metadata": {},
   "outputs": [],
   "source": [
    "def ELBO(mu, logvar, output, input):\n",
    "    reconstruction_error = F.binary_cross_entropy(output, input, reduction=\"sum\")\n",
    "    kld = -0.5 * (1 + logvar - mu.pow(2) - logvar.exp()).sum()\n",
    "    return reconstruction_error + kld"
   ]
  },
  {
   "cell_type": "markdown",
   "metadata": {},
   "source": [
    "### Training"
   ]
  },
  {
   "cell_type": "code",
   "execution_count": 5,
   "metadata": {},
   "outputs": [
    {
     "name": "stderr",
     "output_type": "stream",
     "text": [
      "Current loss 30498.94140625: 100%|██████████| 600/600 [00:08<00:00, 71.21it/s] \n",
      "Current loss 24608.154296875: 100%|██████████| 600/600 [00:07<00:00, 76.48it/s]\n",
      "Current loss 28533.23828125: 100%|██████████| 600/600 [00:07<00:00, 75.61it/s] \n",
      "Current loss 25353.04296875: 100%|██████████| 600/600 [00:07<00:00, 79.41it/s] \n",
      "Current loss 26862.65625: 100%|██████████| 600/600 [00:07<00:00, 81.53it/s]    \n",
      "Current loss 25690.765625: 100%|██████████| 600/600 [00:07<00:00, 79.93it/s]   \n",
      "Current loss 24226.146484375: 100%|██████████| 600/600 [00:07<00:00, 81.94it/s]\n",
      "Current loss 24985.91796875: 100%|██████████| 600/600 [00:07<00:00, 83.33it/s] \n",
      "Current loss 23910.23828125: 100%|██████████| 600/600 [00:07<00:00, 82.57it/s] \n",
      "Current loss 23572.72265625: 100%|██████████| 600/600 [00:08<00:00, 74.45it/s] \n",
      "Current loss 23329.8828125: 100%|██████████| 600/600 [00:07<00:00, 79.60it/s]  \n",
      "Current loss 23468.2734375: 100%|██████████| 600/600 [00:08<00:00, 73.12it/s]  \n",
      "Current loss 22573.427734375: 100%|██████████| 600/600 [00:07<00:00, 80.95it/s]\n",
      "Current loss 22721.515625: 100%|██████████| 600/600 [00:07<00:00, 78.46it/s]   \n",
      "Current loss 22850.48828125: 100%|██████████| 600/600 [00:07<00:00, 80.63it/s] \n",
      "Current loss 28264.33203125: 100%|██████████| 600/600 [00:07<00:00, 79.45it/s] \n",
      "Current loss 23431.466796875: 100%|██████████| 600/600 [00:07<00:00, 78.10it/s]\n",
      "Current loss 24277.9140625: 100%|██████████| 600/600 [00:07<00:00, 77.32it/s]  \n",
      "Current loss 22430.455078125: 100%|██████████| 600/600 [00:07<00:00, 80.30it/s]\n",
      "Current loss 24362.587890625: 100%|██████████| 600/600 [00:07<00:00, 76.03it/s]\n",
      "Current loss 29606.068359375: 100%|██████████| 600/600 [00:07<00:00, 78.31it/s]\n",
      "Current loss 23555.947265625: 100%|██████████| 600/600 [00:07<00:00, 79.86it/s]\n",
      "Current loss 24477.45703125: 100%|██████████| 600/600 [00:08<00:00, 72.79it/s] \n",
      "Current loss 24104.892578125: 100%|██████████| 600/600 [00:07<00:00, 78.61it/s]\n",
      "Current loss 25432.001953125: 100%|██████████| 600/600 [00:07<00:00, 84.87it/s]\n",
      "Current loss 25812.701171875: 100%|██████████| 600/600 [00:07<00:00, 84.35it/s]\n",
      "Current loss 24793.728515625: 100%|██████████| 600/600 [00:07<00:00, 85.62it/s]\n",
      "Current loss 23622.97265625: 100%|██████████| 600/600 [00:07<00:00, 84.69it/s] \n",
      "Current loss 24184.671875: 100%|██████████| 600/600 [00:07<00:00, 85.12it/s]   \n",
      "Current loss 24460.5703125: 100%|██████████| 600/600 [00:07<00:00, 84.38it/s]  \n",
      "Current loss 24231.5390625: 100%|██████████| 600/600 [00:07<00:00, 83.97it/s]  \n",
      "Current loss 25853.517578125: 100%|██████████| 600/600 [00:07<00:00, 84.12it/s]\n",
      "Current loss 25797.677734375: 100%|██████████| 600/600 [00:07<00:00, 83.95it/s]\n",
      "Current loss 26515.095703125: 100%|██████████| 600/600 [00:07<00:00, 83.90it/s]\n",
      "Current loss 25057.3984375: 100%|██████████| 600/600 [00:07<00:00, 83.48it/s]  \n",
      "Current loss 26007.53125: 100%|██████████| 600/600 [00:07<00:00, 82.93it/s]    \n",
      "Current loss 25316.37109375: 100%|██████████| 600/600 [00:07<00:00, 77.55it/s] \n",
      "Current loss 25550.9765625: 100%|██████████| 600/600 [00:07<00:00, 77.78it/s]  \n",
      "Current loss 28076.765625: 100%|██████████| 600/600 [00:08<00:00, 70.39it/s]   \n",
      "Current loss 25819.291015625: 100%|██████████| 600/600 [00:08<00:00, 70.90it/s]\n",
      "Current loss 26696.673828125: 100%|██████████| 600/600 [00:09<00:00, 61.97it/s]\n",
      "Current loss 25012.275390625: 100%|██████████| 600/600 [00:07<00:00, 81.60it/s]\n",
      "Current loss 26209.65234375: 100%|██████████| 600/600 [00:07<00:00, 77.26it/s] \n",
      "Current loss 26282.26953125: 100%|██████████| 600/600 [00:06<00:00, 86.20it/s] \n",
      "Current loss 27404.94921875: 100%|██████████| 600/600 [00:07<00:00, 81.76it/s] \n",
      "Current loss 28549.37890625: 100%|██████████| 600/600 [00:07<00:00, 85.59it/s] \n",
      "Current loss 30483.65234375: 100%|██████████| 600/600 [00:07<00:00, 85.26it/s] \n",
      "Current loss 30261.123046875: 100%|██████████| 600/600 [00:09<00:00, 65.20it/s]\n",
      "Current loss 29830.13671875: 100%|██████████| 600/600 [00:09<00:00, 61.52it/s] \n",
      "Current loss 26802.572265625: 100%|██████████| 600/600 [00:08<00:00, 70.53it/s]\n",
      "Current loss 24487.97265625: 100%|██████████| 600/600 [00:09<00:00, 64.30it/s] \n",
      "Current loss 24943.26953125: 100%|██████████| 600/600 [00:07<00:00, 77.69it/s] \n",
      "Current loss 25085.251953125: 100%|██████████| 600/600 [00:07<00:00, 79.85it/s]\n",
      "Current loss 26467.201171875: 100%|██████████| 600/600 [00:07<00:00, 81.86it/s]\n",
      "Current loss 30296.18359375: 100%|██████████| 600/600 [00:08<00:00, 73.44it/s] \n",
      "Current loss 28990.30078125: 100%|██████████| 600/600 [00:07<00:00, 77.92it/s] \n",
      "Current loss 27795.51953125: 100%|██████████| 600/600 [00:08<00:00, 72.00it/s] \n",
      "Current loss 28627.041015625: 100%|██████████| 600/600 [00:07<00:00, 82.70it/s]\n",
      "Current loss 26625.283203125: 100%|██████████| 600/600 [00:07<00:00, 77.43it/s]\n",
      "Current loss 27003.19921875: 100%|██████████| 600/600 [00:07<00:00, 77.55it/s] \n",
      "Current loss 27655.337890625: 100%|██████████| 600/600 [00:08<00:00, 72.57it/s]\n",
      "Current loss 26401.328125: 100%|██████████| 600/600 [00:07<00:00, 75.70it/s]   \n",
      "Current loss 26969.240234375: 100%|██████████| 600/600 [00:07<00:00, 76.17it/s]\n",
      "Current loss 26591.1484375: 100%|██████████| 600/600 [00:07<00:00, 81.89it/s]  \n",
      "Current loss 27525.310546875: 100%|██████████| 600/600 [00:07<00:00, 82.77it/s]\n",
      "Current loss 28778.1484375: 100%|██████████| 600/600 [00:07<00:00, 77.94it/s]  \n",
      "Current loss 30770.37890625: 100%|██████████| 600/600 [00:07<00:00, 82.59it/s] \n",
      "Current loss 29724.9375: 100%|██████████| 600/600 [00:07<00:00, 84.59it/s]     \n",
      "Current loss 30280.181640625: 100%|██████████| 600/600 [00:07<00:00, 81.43it/s]\n",
      "Current loss 34074.81640625: 100%|██████████| 600/600 [00:07<00:00, 81.11it/s] \n",
      "Current loss 30048.625: 100%|██████████| 600/600 [00:07<00:00, 84.84it/s]      \n",
      "Current loss 30772.20703125: 100%|██████████| 600/600 [00:07<00:00, 83.77it/s] \n",
      "Current loss 28174.5390625: 100%|██████████| 600/600 [00:07<00:00, 81.28it/s]  \n",
      "Current loss 28953.103515625: 100%|██████████| 600/600 [00:07<00:00, 81.41it/s]\n",
      "Current loss 29056.390625: 100%|██████████| 600/600 [00:07<00:00, 83.69it/s]   \n",
      "Current loss 29602.841796875: 100%|██████████| 600/600 [00:07<00:00, 80.28it/s]\n",
      "Current loss 29464.78125: 100%|██████████| 600/600 [00:07<00:00, 84.05it/s]    \n",
      "Current loss 30725.685546875: 100%|██████████| 600/600 [00:07<00:00, 83.79it/s]\n",
      "Current loss 31329.56640625: 100%|██████████| 600/600 [00:07<00:00, 84.43it/s] \n",
      "Current loss 32174.90234375: 100%|██████████| 600/600 [00:07<00:00, 83.82it/s] \n",
      "Current loss 32841.984375: 100%|██████████| 600/600 [00:07<00:00, 84.22it/s]   \n",
      "Current loss 32191.26953125: 100%|██████████| 600/600 [00:08<00:00, 70.20it/s] \n",
      "Current loss 33493.51953125: 100%|██████████| 600/600 [00:07<00:00, 83.55it/s] \n",
      "Current loss 36233.02734375: 100%|██████████| 600/600 [00:07<00:00, 79.68it/s]\n",
      "Current loss 37740.75: 100%|██████████| 600/600 [00:07<00:00, 83.92it/s]      \n",
      "Current loss 39440.1171875: 100%|██████████| 600/600 [00:07<00:00, 83.30it/s] \n",
      "Current loss 39116.1015625: 100%|██████████| 600/600 [00:07<00:00, 83.75it/s] \n",
      "Current loss 40414.8203125: 100%|██████████| 600/600 [00:07<00:00, 83.47it/s] \n",
      "Current loss 45734.9375: 100%|██████████| 600/600 [00:07<00:00, 79.23it/s]    \n",
      "Current loss 39913.8515625: 100%|██████████| 600/600 [00:07<00:00, 76.78it/s] \n",
      "Current loss 41591.20703125: 100%|██████████| 600/600 [00:07<00:00, 78.33it/s]\n",
      "Current loss 39268.203125: 100%|██████████| 600/600 [00:07<00:00, 77.78it/s]  \n",
      "Current loss 37323.3203125: 100%|██████████| 600/600 [00:07<00:00, 84.95it/s] \n",
      "Current loss 35543.41015625: 100%|██████████| 600/600 [00:11<00:00, 50.89it/s]\n",
      "Current loss 32778.8359375: 100%|██████████| 600/600 [00:13<00:00, 43.77it/s]  \n",
      "Current loss 32478.98828125: 100%|██████████| 600/600 [00:14<00:00, 42.79it/s] \n",
      "Current loss 32367.2265625: 100%|██████████| 600/600 [00:13<00:00, 42.92it/s]  \n",
      "Current loss 32120.712890625: 100%|██████████| 600/600 [00:14<00:00, 41.99it/s]\n",
      "Current loss 32255.234375: 100%|██████████| 600/600 [00:14<00:00, 42.02it/s]   \n",
      "Current loss 33404.96875: 100%|██████████| 600/600 [00:14<00:00, 42.74it/s]    \n"
     ]
    }
   ],
   "source": [
    "gpu = False\n",
    "\n",
    "if gpu:\n",
    "    device = torch.device(\"cuda\")\n",
    "else:\n",
    "    device = torch.device(\"cpu\")\n",
    "\n",
    "model = VAE(400, 20)\n",
    "optimizer = optim.Adam(model.parameters())\n",
    "model.to(device)\n",
    "\n",
    "epochs = 100\n",
    "for _ in range(epochs):\n",
    "    bar = tqdm(total=len(train_loader))\n",
    "    for b_idx, batch in enumerate(train_loader):\n",
    "        # Forward\n",
    "        x, _ = batch\n",
    "        x = x.to(device)\n",
    "        net_x, z_mu, z_logvar = model(x)\n",
    "        \n",
    "        # Loss\n",
    "        loss = ELBO(z_mu, z_logvar, net_x, x)\n",
    "        loss.backward()\n",
    "        optimizer.step()\n",
    "        \n",
    "        # Update loss in tqdm\n",
    "        postfix_str = f\"Current loss {loss.item()}\"\n",
    "        bar.set_description(desc=postfix_str)\n",
    "        bar.update()\n",
    "        \n",
    "        # Plot image for debugging purpose\n",
    "        if (b_idx % 100) == 0:\n",
    "            plt.imshow(net_x.detach()[0, 0, ...])\n",
    "        \n",
    "    bar.close()"
   ]
  },
  {
   "cell_type": "code",
   "execution_count": 6,
   "metadata": {},
   "outputs": [
    {
     "data": {
      "image/png": "[encoded data removed]",
      "text/plain": [
       "<Figure size 432x288 with 1 Axes>"
      ]
     },
     "metadata": {},
     "output_type": "display_data"
    },
    {
     "data": {
      "image/png": "[encoded data removed]",
      "text/plain": [
       "<Figure size 1440x360 with 1 Axes>"
      ]
     },
     "metadata": {},
     "output_type": "display_data"
    }
   ],
   "source": [
    "# Show samples\n",
    "sample = torch.randn(16, 20)\n",
    "sample = model.decoder(sample.to(device)).cpu().detach()\n",
    "ims = make_grid(sample, nrow=8, padding=10)\n",
    "ims = ims.numpy()\n",
    "\n",
    "plt.figure(figsize=(20, 5))\n",
    "plt.imshow(np.transpose(ims, (1, 2, 0)), interpolation=\"nearest\")\n",
    "plt.show()"
   ]
  }
 ],
 "metadata": {
  "kernelspec": {
   "display_name": "Python 3",
   "language": "python",
   "name": "python3"
  },
  "language_info": {
   "codemirror_mode": {
    "name": "ipython",
    "version": 3
   },
   "file_extension": ".py",
   "mimetype": "text/x-python",
   "name": "python",
   "nbconvert_exporter": "python",
   "pygments_lexer": "ipython3",
   "version": "3.6.5"
  }
 },
 "nbformat": 4,
 "nbformat_minor": 4
}
