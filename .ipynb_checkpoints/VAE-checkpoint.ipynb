{
 "cells": [
  {
   "cell_type": "code",
   "execution_count": 1,
   "metadata": {},
   "outputs": [],
   "source": [
    "import numpy as np\n",
    "import matplotlib.pyplot as plt\n",
    "from tqdm import tqdm\n",
    "\n",
    "import torch\n",
    "import torch.nn as nn\n",
    "import torch.optim as optim\n",
    "import torch.nn.functional as F\n",
    "import torch.distributions as distr\n",
    "\n",
    "from torch.utils.data import Dataset, DataLoader\n",
    "from torchvision import datasets, transforms\n",
    "from torchvision.utils import make_grid"
   ]
  },
  {
   "cell_type": "markdown",
   "metadata": {},
   "source": [
    "### Dataset definition"
   ]
  },
  {
   "cell_type": "code",
   "execution_count": 2,
   "metadata": {},
   "outputs": [],
   "source": [
    "batch_size = 100\n",
    "num_workers = 4\n",
    "\n",
    "# Train\n",
    "train_mnist = datasets.MNIST(\"./data\", train=True, transform=transforms.ToTensor())\n",
    "train_loader = DataLoader(train_mnist, shuffle=True, batch_size=batch_size, num_workers=num_workers, pin_memory=True)\n",
    "\n",
    "# Test\n",
    "test_mnist = datasets.MNIST(\"./data\", train=False, transform=transforms.ToTensor())\n",
    "test_loader = DataLoader(test_mnist, shuffle=True, batch_size=batch_size, num_workers=num_workers)"
   ]
  },
  {
   "cell_type": "markdown",
   "metadata": {},
   "source": [
    "### Network definition"
   ]
  },
  {
   "cell_type": "code",
   "execution_count": 3,
   "metadata": {},
   "outputs": [],
   "source": [
    "class Encoder(nn.Module):\n",
    "    def __init__(self, l0, l1):\n",
    "        super(Encoder, self).__init__()\n",
    "         \n",
    "        # Define layers\n",
    "        self.fc0 = nn.Linear(28*28, l0)\n",
    "        self.fc1_mu = nn.Linear(l0, l1)\n",
    "        self.fc1_sigma = nn.Linear(l0, l1)\n",
    "        \n",
    "    def forward(self, x):\n",
    "        x = x.view(x.shape[0], -1)\n",
    "        \n",
    "        # Compute\n",
    "        h = F.relu(self.fc0(x))\n",
    "        mu = self.fc1_mu(h)\n",
    "        logvar = self.fc1_sigma(h)\n",
    "        \n",
    "        return mu, logvar \n",
    "        \n",
    "class Decoder(nn.Module):\n",
    "    def __init__(self, l0, l1):\n",
    "        super(Decoder, self).__init__()\n",
    "        \n",
    "        # Define layers\n",
    "        self.fc0 = nn.Linear(l0, l1)\n",
    "        self.fc1 = nn.Linear(l1, 28*28)\n",
    "        \n",
    "    def forward(self, x):\n",
    "        \n",
    "        # Compute\n",
    "        h = F.relu(self.fc0(x))\n",
    "        out = torch.sigmoid(self.fc1(h))\n",
    "        \n",
    "        return out\n",
    "        \n",
    "class VAE(nn.Module):\n",
    "    def __init__(self, l0, l1):\n",
    "        super(VAE, self).__init__()\n",
    "        self.encoder = Encoder(l0, l1)\n",
    "        self.decoder = Decoder(l1, l0)\n",
    "        \n",
    "    def forward(self, x):\n",
    "        # Generate deterministic mean and std\n",
    "        z_mu, z_logvar = self.encoder(x)\n",
    "        \n",
    "        # Sample epsilon and make z stochastic\n",
    "        eps = torch.randn_like(z_logvar)\n",
    "        z_sigma = torch.exp(0.5 * z_logvar)\n",
    "        z = z_mu + eps*z_sigma\n",
    "        \n",
    "        # Perform decoding, or sample from X\n",
    "        y = self.decoder(z)\n",
    "        \n",
    "        return y, z_mu, z_logvar"
   ]
  },
  {
   "cell_type": "markdown",
   "metadata": {},
   "source": [
    "### Loss definition"
   ]
  },
  {
   "cell_type": "code",
   "execution_count": 4,
   "metadata": {},
   "outputs": [],
   "source": [
    "def ELBO(mu, logvar, output, input):\n",
    "    reconstruction_error = F.binary_cross_entropy(output, input.view(-1, 784), reduction=\"sum\")\n",
    "    kld = -0.5 * torch.sum(1 + logvar - mu.pow(2) - logvar.exp())\n",
    "    return reconstruction_error + kld"
   ]
  },
  {
   "cell_type": "markdown",
   "metadata": {},
   "source": [
    "### Training"
   ]
  },
  {
   "cell_type": "code",
   "execution_count": 5,
   "metadata": {},
   "outputs": [
    {
     "name": "stderr",
     "output_type": "stream",
     "text": [
      "Current loss 9970.40625: 100%|██████████| 100/100 [04:20<00:00,  2.61s/it]     \n"
     ]
    }
   ],
   "source": [
    "gpu = True\n",
    "\n",
    "if gpu:\n",
    "    device = torch.device(\"cuda\")\n",
    "else:\n",
    "    device = torch.device(\"cpu\")\n",
    "\n",
    "model = VAE(400, 20)\n",
    "optimizer = optim.Adam(model.parameters(), lr=1e-3)\n",
    "model.to(device)\n",
    "\n",
    "epochs = 100\n",
    "bar = tqdm(total=epochs)\n",
    "for _ in range(epochs):\n",
    "    for b_idx, (data, _) in enumerate(train_loader):\n",
    "        optimizer.zero_grad()\n",
    "        \n",
    "        # Forward\n",
    "        data = data.to(device)\n",
    "        net_im, z_mu, z_logvar = model(data)\n",
    "        \n",
    "        # Loss\n",
    "        loss = ELBO(z_mu, z_logvar, net_im, data)\n",
    "        loss.backward()\n",
    "        optimizer.step()\n",
    "            \n",
    "    # Update loss in tqdm\n",
    "    postfix_str = f\"Current loss {loss.item()}\"\n",
    "    bar.set_description(desc=postfix_str)\n",
    "    bar.update()\n",
    "        \n",
    "bar.close()"
   ]
  },
  {
   "cell_type": "code",
   "execution_count": 6,
   "metadata": {},
   "outputs": [
    {
     "data": {
      "image/png": "[encoded data removed]",
      "text/plain": [
       "<Figure size 1440x360 with 1 Axes>"
      ]
     },
     "metadata": {},
     "output_type": "display_data"
    }
   ],
   "source": [
    "# Show samples\n",
    "sample = torch.randn(16, 20)\n",
    "sample = model.decoder(sample.to(device)).cpu().detach()\n",
    "ims = make_grid(sample.view(-1, 1, 28, 28), nrow=8, padding=10)\n",
    "ims = ims.numpy()\n",
    "\n",
    "plt.figure(figsize=(20, 5))\n",
    "plt.imshow(np.transpose(ims, (1, 2, 0)), interpolation=\"nearest\")\n",
    "plt.show()"
   ]
  }
 ],
 "metadata": {
  "kernelspec": {
   "display_name": "Python 3",
   "language": "python",
   "name": "python3"
  },
  "language_info": {
   "codemirror_mode": {
    "name": "ipython",
    "version": 3
   },
   "file_extension": ".py",
   "mimetype": "text/x-python",
   "name": "python",
   "nbconvert_exporter": "python",
   "pygments_lexer": "ipython3",
   "version": "3.6.5"
  }
 },
 "nbformat": 4,
 "nbformat_minor": 4
}
