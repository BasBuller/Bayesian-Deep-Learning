{
 "cells": [
  {
   "cell_type": "code",
   "execution_count": 1,
   "metadata": {},
   "outputs": [],
   "source": [
    "import numpy as np\n",
    "import matplotlib.pyplot as plt\n",
    "from tqdm import tqdm\n",
    "\n",
    "import torch\n",
    "import torch.nn as nn\n",
    "import torch.optim as optim\n",
    "import torch.nn.functional as F\n",
    "import torch.distributions as distr\n",
    "\n",
    "from torch.utils.data import Dataset, DataLoader\n",
    "from torchvision import datasets, transforms\n",
    "from torchvision.utils import make_grid\n",
    "\n",
    "from data_train_test_funcs import mnist_dataloaders, train"
   ]
  },
  {
   "cell_type": "markdown",
   "metadata": {},
   "source": [
    "### Parameters"
   ]
  },
  {
   "cell_type": "code",
   "execution_count": 2,
   "metadata": {},
   "outputs": [],
   "source": [
    "gpu = True\n",
    "epochs = 20\n",
    "batch_size = 100\n",
    "num_workers = 4"
   ]
  },
  {
   "cell_type": "markdown",
   "metadata": {},
   "source": [
    "### Dataset definition"
   ]
  },
  {
   "cell_type": "code",
   "execution_count": 3,
   "metadata": {},
   "outputs": [],
   "source": [
    "train_loader, test_loader = mnist_dataloaders(batch_size=batch_size, num_workers=num_workers, pin_memory=gpu)"
   ]
  },
  {
   "cell_type": "markdown",
   "metadata": {},
   "source": [
    "### Network definition"
   ]
  },
  {
   "cell_type": "code",
   "execution_count": 4,
   "metadata": {},
   "outputs": [],
   "source": [
    "class Encoder(nn.Module):\n",
    "    def __init__(self, l0, l1):\n",
    "        super(Encoder, self).__init__()\n",
    "         \n",
    "        # Define layers\n",
    "        self.fc0 = nn.Linear(28*28, l0)\n",
    "        self.fc1_mu = nn.Linear(l0, l1)\n",
    "        self.fc1_sigma = nn.Linear(l0, l1)\n",
    "        \n",
    "    def forward(self, x):\n",
    "        x = x.view(x.shape[0], -1)\n",
    "        \n",
    "        # Compute\n",
    "        h = F.relu(self.fc0(x))\n",
    "        mu = self.fc1_mu(h)\n",
    "        logvar = self.fc1_sigma(h)\n",
    "        \n",
    "        return mu, logvar \n",
    "        \n",
    "class Decoder(nn.Module):\n",
    "    def __init__(self, l0, l1):\n",
    "        super(Decoder, self).__init__()\n",
    "        \n",
    "        # Define layers\n",
    "        self.fc0 = nn.Linear(l0, l1)\n",
    "        self.fc1 = nn.Linear(l1, 28*28)\n",
    "        \n",
    "    def forward(self, x):\n",
    "        \n",
    "        # Compute\n",
    "        h = F.relu(self.fc0(x))\n",
    "        out = torch.sigmoid(self.fc1(h))\n",
    "        \n",
    "        return out\n",
    "        \n",
    "class VAE(nn.Module):\n",
    "    def __init__(self, l0, l1):\n",
    "        super(VAE, self).__init__()\n",
    "        self.encoder = Encoder(l0, l1)\n",
    "        self.decoder = Decoder(l1, l0)\n",
    "        \n",
    "    def forward(self, x):\n",
    "        # Generate deterministic mean and std\n",
    "        z_mu, z_logvar = self.encoder(x)\n",
    "        \n",
    "        # Sample epsilon and make z stochastic\n",
    "        eps = torch.randn_like(z_logvar)\n",
    "        z_sigma = torch.exp(0.5 * z_logvar)\n",
    "        z = z_mu + eps*z_sigma\n",
    "        \n",
    "        # Perform decoding, or sample from X\n",
    "        y = self.decoder(z)\n",
    "        \n",
    "        return y, z_mu, z_logvar"
   ]
  },
  {
   "cell_type": "markdown",
   "metadata": {},
   "source": [
    "### Loss definition"
   ]
  },
  {
   "cell_type": "code",
   "execution_count": 5,
   "metadata": {},
   "outputs": [],
   "source": [
    "def ELBO(input, output, mu, logvar):\n",
    "    reconstruction_error = F.binary_cross_entropy(output, input.view(-1, 784), reduction=\"sum\")\n",
    "    kld = -0.5 * torch.sum(1 + logvar - mu.pow(2) - logvar.exp())\n",
    "    return reconstruction_error + kld"
   ]
  },
  {
   "cell_type": "markdown",
   "metadata": {},
   "source": [
    "### Training"
   ]
  },
  {
   "cell_type": "code",
   "execution_count": 7,
   "metadata": {},
   "outputs": [
    {
     "ename": "TypeError",
     "evalue": "train() got multiple values for argument 'epochs'",
     "output_type": "error",
     "traceback": [
      "\u001b[0;31m---------------------------------------------------------------------------\u001b[0m",
      "\u001b[0;31mTypeError\u001b[0m                                 Traceback (most recent call last)",
      "\u001b[0;32m<ipython-input-7-90b7a1d46b41>\u001b[0m in \u001b[0;36m<module>\u001b[0;34m()\u001b[0m\n\u001b[1;32m     16\u001b[0m     \u001b[0;32mreturn\u001b[0m \u001b[0mloss\u001b[0m\u001b[0;34m\u001b[0m\u001b[0m\n\u001b[1;32m     17\u001b[0m \u001b[0;34m\u001b[0m\u001b[0m\n\u001b[0;32m---> 18\u001b[0;31m \u001b[0mtrain\u001b[0m\u001b[0;34m(\u001b[0m\u001b[0mtrain_step\u001b[0m\u001b[0;34m,\u001b[0m \u001b[0mmodel\u001b[0m\u001b[0;34m,\u001b[0m \u001b[0mtrain_loader\u001b[0m\u001b[0;34m,\u001b[0m \u001b[0mepochs\u001b[0m\u001b[0;34m=\u001b[0m\u001b[0mepochs\u001b[0m\u001b[0;34m,\u001b[0m \u001b[0mgpu\u001b[0m\u001b[0;34m=\u001b[0m\u001b[0mgpu\u001b[0m\u001b[0;34m)\u001b[0m\u001b[0;34m\u001b[0m\u001b[0m\n\u001b[0m",
      "\u001b[0;31mTypeError\u001b[0m: train() got multiple values for argument 'epochs'"
     ]
    }
   ],
   "source": [
    "model = VAE(400, 20)\n",
    "optimizer = optim.Adam(model.parameters())\n",
    "\n",
    "def train_step(batch):\n",
    "    optimizer.zero_grad()\n",
    "    \n",
    "    # Forward\n",
    "    input = batch[0].view(-1, 784)\n",
    "    net_out, mu, logvar = model(input)\n",
    "    \n",
    "    # Loss and step\n",
    "    loss = ELBO(input, net_out, mu, logvar)\n",
    "    loss.backward()\n",
    "    optimizer.step()\n",
    "    \n",
    "    return loss\n",
    "\n",
    "train(train_step, model, train_loader, epochs=epochs, gpu=gpu)"
   ]
  },
  {
   "cell_type": "code",
   "execution_count": null,
   "metadata": {},
   "outputs": [],
   "source": [
    "# Show samples\n",
    "model = model.cpu()\n",
    "sample = torch.randn(16, 20)\n",
    "sample = model.decoder(sample).detach()\n",
    "ims = make_grid(sample.view(-1, 1, 28, 28), nrow=8, padding=10)\n",
    "ims = ims.numpy()\n",
    "\n",
    "plt.figure(figsize=(20, 5))\n",
    "plt.imshow(np.transpose(ims, (1, 2, 0)), interpolation=\"nearest\")\n",
    "plt.show()"
   ]
  }
 ],
 "metadata": {
  "kernelspec": {
   "display_name": "Python 3",
   "language": "python",
   "name": "python3"
  },
  "language_info": {
   "codemirror_mode": {
    "name": "ipython",
    "version": 3
   },
   "file_extension": ".py",
   "mimetype": "text/x-python",
   "name": "python",
   "nbconvert_exporter": "python",
   "pygments_lexer": "ipython3",
   "version": "3.6.5"
  }
 },
 "nbformat": 4,
 "nbformat_minor": 4
}
